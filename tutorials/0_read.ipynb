{
 "cells": [
  {
   "cell_type": "markdown",
   "metadata": {},
   "source": [
    "# Reading Atoms\n",
    "\n",
    "[Documentation for `relate`](https://msg-byu.github.io/relate/)"
   ]
  },
  {
   "cell_type": "markdown",
   "metadata": {},
   "source": [
    "The main structure the `relate` package creates and utilizes is an AtomsCollection, which is a dictionary, with additional data members of 'name' (a string) and a 'Store' object which facilitates storing and retrieval of results. The dictionary holds ASE Atoms objects as the values, and the keys correspond to a unique atoms id (aid)."
   ]
  },
  {
   "cell_type": "markdown",
   "metadata": {},
   "source": [
    "### Step 1: Create an AtomsCollection "
   ]
  },
  {
   "cell_type": "markdown",
   "metadata": {},
   "source": [
    "To create the atoms collection we first import AtomsCollection from `relate`. Then we create the collection by passing in the collection name and the path to where we want the results to be stored.\n",
    "\n",
    "`AtomsCollection(name='name_of_collection', location='../location/for/store')`\n",
    "\n",
    "**Note:** Some descriptors (including LER) are collection specific, so you will want to make sure to choose unique AtomsCollection names."
   ]
  },
  {
   "cell_type": "code",
   "execution_count": 1,
   "metadata": {},
   "outputs": [
    {
     "name": "stdout",
     "output_type": "stream",
     "text": [
      "Collection name: tutorial1\n",
      "Store location: tutorial_store\n"
     ]
    }
   ],
   "source": [
    "import sys\n",
    "sys.path.append(\"../\")\n",
    "\n",
    "from relate.collection import AtomsCollection\n",
    "tut = AtomsCollection('tutorial1', 'tutorial_store')\n",
    "print(\"Collection name:\", tut)\n",
    "print(\"Store location:\", tut.store)"
   ]
  },
  {
   "cell_type": "markdown",
   "metadata": {},
   "source": [
    "Alternatively, location defaults to None, and default initiation creates a Store entitled 'store' in current directory."
   ]
  },
  {
   "cell_type": "code",
   "execution_count": 2,
   "metadata": {},
   "outputs": [
    {
     "name": "stdout",
     "output_type": "stream",
     "text": [
      "Collection name: illustrative_collection\n",
      "Store location: store\n"
     ]
    }
   ],
   "source": [
    "col = AtomsCollection(\"illustrative_collection\")\n",
    "print(\"Collection name:\", col)\n",
    "print(\"Store location:\", col.store)"
   ]
  },
  {
   "cell_type": "markdown",
   "metadata": {},
   "source": [
    "### Step 2: Read in the atoms"
   ]
  },
  {
   "cell_type": "markdown",
   "metadata": {},
   "source": [
    "With the collection created, we now work on reading in the correct atoms object. This is done through the collection's `read()` function which utilizes the ASE atoms object's read function.\n",
    "\n",
    "`AtomsCollection.read(root=\"../location/of/input/file\", Z=atomic_number, f_format=None, rxid=None, prefix=None)`\n",
    "\n",
    "The f_format parameter is an optional parameter (defaults to None) for the type of input file, which is then used in ASE's read function. For additional information on supported filetypes see [ASE documentation for file input and output](https://wiki.fysik.dtu.dk/ase/ase/io/io.html)"
   ]
  },
  {
   "cell_type": "markdown",
   "metadata": {},
   "source": [
    "Read will take atomic information from an input file and read into ASE Atoms objects. This first parameter can either be a single file path,"
   ]
  },
  {
   "cell_type": "code",
   "execution_count": 3,
   "metadata": {},
   "outputs": [
    {
     "name": "stdout",
     "output_type": "stream",
     "text": [
      "ni.p453.out\n"
     ]
    }
   ],
   "source": [
    "tut.read('tutorial_data/ni.p453.out', 28, f_format='lammps-dump-text')\n",
    "\n",
    "for aid in tut.aids():\n",
    "    print(f'{aid}')"
   ]
  },
  {
   "cell_type": "markdown",
   "metadata": {},
   "source": [
    "a list of file paths,"
   ]
  },
  {
   "cell_type": "code",
   "execution_count": 4,
   "metadata": {
    "scrolled": true
   },
   "outputs": [
    {
     "name": "stderr",
     "output_type": "stream",
     "text": [
      "100%|██████████| 2/2 [00:04<00:00,  2.12s/it]"
     ]
    },
    {
     "name": "stdout",
     "output_type": "stream",
     "text": [
      "ni.p453.out\n",
      "ni.p454.out\n",
      "ni.p455.out\n"
     ]
    },
    {
     "name": "stderr",
     "output_type": "stream",
     "text": [
      "\n"
     ]
    }
   ],
   "source": [
    "tut.read(['tutorial_data/ni.p454.out', 'tutorial_data/ni.p455.out'], 28, f_format='lammps-dump-text')\n",
    "\n",
    "for aid in tut.aids():\n",
    "    print(f'{aid}')"
   ]
  },
  {
   "cell_type": "markdown",
   "metadata": {},
   "source": [
    "a directory,"
   ]
  },
  {
   "cell_type": "code",
   "execution_count": 5,
   "metadata": {},
   "outputs": [
    {
     "name": "stdout",
     "output_type": "stream",
     "text": [
      "ni.p453.out\n",
      "ni.p454.out\n",
      "ni.p455.out\n",
      "ni.p456.out\n"
     ]
    }
   ],
   "source": [
    "tut.read('tutorial_data/sub1', 28, f_format='lammps-dump-text')\n",
    "\n",
    "for aid in tut.aids():\n",
    "    print(f'{aid}')"
   ]
  },
  {
   "cell_type": "markdown",
   "metadata": {},
   "source": [
    "a list of directories,"
   ]
  },
  {
   "cell_type": "code",
   "execution_count": 6,
   "metadata": {},
   "outputs": [
    {
     "name": "stderr",
     "output_type": "stream",
     "text": [
      "100%|██████████| 2/2 [00:03<00:00,  1.56s/it]"
     ]
    },
    {
     "name": "stdout",
     "output_type": "stream",
     "text": [
      "ni.p453.out\n",
      "ni.p454.out\n",
      "ni.p455.out\n",
      "ni.p456.out\n",
      "ni.p457.out\n",
      "ni.p458.out\n"
     ]
    },
    {
     "name": "stderr",
     "output_type": "stream",
     "text": [
      "\n"
     ]
    }
   ],
   "source": [
    "tut.read(['tutorial_data/sub2', 'tutorial_data/sub3'] , 28, f_format='lammps-dump-text')\n",
    "\n",
    "for aid in tut.aids():\n",
    "    print(f'{aid}')"
   ]
  },
  {
   "cell_type": "markdown",
   "metadata": {},
   "source": [
    "or a mixed list of directories and filepaths"
   ]
  },
  {
   "cell_type": "code",
   "execution_count": 7,
   "metadata": {},
   "outputs": [
    {
     "name": "stderr",
     "output_type": "stream",
     "text": [
      "100%|██████████| 2/2 [00:02<00:00,  1.05s/it]"
     ]
    },
    {
     "name": "stdout",
     "output_type": "stream",
     "text": [
      "ni.p453.out\n",
      "ni.p454.out\n",
      "ni.p455.out\n",
      "ni.p456.out\n",
      "ni.p457.out\n",
      "ni.p458.out\n",
      "ni.p459.out\n"
     ]
    },
    {
     "name": "stderr",
     "output_type": "stream",
     "text": [
      "\n"
     ]
    }
   ],
   "source": [
    "tut.read(['tutorial_data/sub4', 'tutorial_data/ni.p453.out'] , 28, f_format='lammps-dump-text')\n",
    "\n",
    "for aid in tut.aids():\n",
    "    print(f'{aid}')"
   ]
  },
  {
   "cell_type": "code",
   "execution_count": 9,
   "metadata": {},
   "outputs": [],
   "source": [
    "tut2 = AtomsCollection('tutorial2', 'tutorial_store')"
   ]
  },
  {
   "cell_type": "markdown",
   "metadata": {},
   "source": [
    "In the AtomsCollection, the key in the dictionary has above been referred to as the atoms id. This unique identifier is also used in the filename of the results when a descriptor is applied. There are a couple of ways to specify how the atoms id (aid) is to be generated. In the above examples the default set the filename as the aid. There are 2 optional parameters for specifying aid, prefix and rxid. Both default to None."
   ]
  },
  {
   "cell_type": "markdown",
   "metadata": {},
   "source": [
    "You may indicate a prefix to be attached to the beginning of the aid"
   ]
  },
  {
   "cell_type": "code",
   "execution_count": 10,
   "metadata": {},
   "outputs": [
    {
     "name": "stdout",
     "output_type": "stream",
     "text": [
      "['tutorial_ni.p453.out']\n"
     ]
    }
   ],
   "source": [
    "tut2.read('tutorial_data/ni.p453.out', 28, f_format='lammps-dump-text', prefix='tutorial')\n",
    "\n",
    "print(tut2.aids())"
   ]
  },
  {
   "cell_type": "markdown",
   "metadata": {},
   "source": [
    "Additionally, you may indicate a regex phrase to extract desired information to be used in the aid. The regex should include a named group `(?P<aid>...)` so that the id can be extracted correctly.  If any files don't match the regex or if it is not specified, the file name is used in the aid."
   ]
  },
  {
   "cell_type": "code",
   "execution_count": 11,
   "metadata": {},
   "outputs": [
    {
     "name": "stdout",
     "output_type": "stream",
     "text": [
      "tutorial_454\n",
      "tutorial_ni.p453.out\n"
     ]
    }
   ],
   "source": [
    "tut2.read('tutorial_data/ni.p454.out', 28, f_format='lammps-dump-text', rxid=r'ni.p(?P<gbid>\\d+).out', prefix='tutorial')\n",
    "\n",
    "for aid in tut2.aids():\n",
    "    print(f'{aid}')"
   ]
  },
  {
   "cell_type": "markdown",
   "metadata": {},
   "source": [
    "The read function will not read in a file if an identical aid is already found in the collection, however if you use different parameters (for prefix and rxid) it is possible to read in the same atomic information multiple times under different aids, which could negatively affect results. As a way to check what the aids are set as you may use the `AtomsCollection.aids()` function to get a list of the atoms id's in the collection."
   ]
  },
  {
   "cell_type": "code",
   "execution_count": 12,
   "metadata": {},
   "outputs": [
    {
     "name": "stdout",
     "output_type": "stream",
     "text": [
      "['tutorial_454', 'tutorial_ni.p453.out']\n"
     ]
    }
   ],
   "source": [
    "a = tut2.aids()\n",
    "print(a)"
   ]
  }
 ],
 "metadata": {
  "kernelspec": {
   "display_name": "Python 3",
   "language": "python",
   "name": "python3"
  },
  "language_info": {
   "codemirror_mode": {
    "name": "ipython",
    "version": 3
   },
   "file_extension": ".py",
   "mimetype": "text/x-python",
   "name": "python",
   "nbconvert_exporter": "python",
   "pygments_lexer": "ipython3",
   "version": "3.6.9"
  }
 },
 "nbformat": 4,
 "nbformat_minor": 2
}
