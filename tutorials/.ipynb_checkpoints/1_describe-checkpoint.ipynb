{
 "cells": [
  {
   "cell_type": "markdown",
   "metadata": {},
   "source": [
    "# Describing Collections\n",
    "\n",
    "[Documentation for `pyrelate`](https://msg-byu.github.io/pyrelate/)"
   ]
  },
  {
   "cell_type": "code",
   "execution_count": 1,
   "metadata": {},
   "outputs": [],
   "source": [
    "import sys\n",
    "sys.path.append(\"../\")\n",
    "from pyrelate.collection import AtomsCollection\n",
    "import pyrelate.descriptors as descriptors\n",
    "\n",
    "tut = AtomsCollection('tutorial', 'tutorial_store')\n",
    "tut.read('tutorial_data/', 28, f_format='lammps-dump-text', prefix='tutorial')"
   ]
  },
  {
   "cell_type": "markdown",
   "metadata": {},
   "source": [
    "With a collection created and the atoms read in, we can start to calculate descriptors for these collections."
   ]
  },
  {
   "cell_type": "markdown",
   "metadata": {},
   "source": [
    "To calculate descriptors, we use the collection's `describe()` function which can be used to calculate built-in or custom descriptors."
   ]
  },
  {
   "cell_type": "markdown",
   "metadata": {},
   "source": [
    "`pyrelate` comes with three built-in descriptors, the\n",
    "* Smooth Overlap of Atomic Position (SOAP)\n",
    "* Averaged SOAP Representation (ASR)\n",
    "* Local Environment Representation (LER)\n",
    "\n",
    "**Note that both ASR and LER depend on SOAP, which must be calculated first**"
   ]
  },
  {
   "cell_type": "markdown",
   "metadata": {},
   "source": [
    "To use these built in descriptors we just specify the name of descriptor and all the arguments the descriptor needs.\n",
    "\n",
    "```python\n",
    "kwargs={\n",
    "    \"all\": \"of\", \n",
    "    \"the\":\"args\", \n",
    "    \"for\": \"descriptor\"\n",
    "    }\n",
    "    \n",
    "AtomsCollection.describe(descriptor=\"name_of_descriptor\", fcn=None, needs_store=False, **kwargs)\n",
    "```"
   ]
  },
  {
   "cell_type": "markdown",
   "metadata": {},
   "source": [
    "## SOAP"
   ]
  },
  {
   "cell_type": "code",
   "execution_count": 4,
   "metadata": {
    "scrolled": true
   },
   "outputs": [
    {
     "name": "stderr",
     "output_type": "stream",
     "text": [
      "\n",
      "  0%|          | 0/7 [00:00<?, ?it/s]\u001b[A\n",
      " 14%|█▍        | 1/7 [06:00<36:02, 360.43s/it]\u001b[A\n",
      " 29%|██▊       | 2/7 [20:25<51:04, 612.89s/it]\u001b[A\n",
      " 43%|████▎     | 3/7 [22:51<30:28, 457.25s/it]\u001b[A\n",
      " 57%|█████▋    | 4/7 [32:31<24:23, 487.94s/it]\u001b[A\n",
      " 71%|███████▏  | 5/7 [39:13<15:41, 470.73s/it]\u001b[A\n",
      " 86%|████████▌ | 6/7 [40:32<06:45, 405.47s/it]\u001b[A\n",
      "100%|██████████| 7/7 [41:37<00:00, 356.83s/it]\u001b[A\n",
      "\u001b[A"
     ]
    }
   ],
   "source": [
    "soapargs = {\n",
    "    'rcut': 5.,\n",
    "    'lmax': 9,\n",
    "    'nmax': 9\n",
    "}\n",
    "tut.describe('soap', **soapargs)"
   ]
  },
  {
   "cell_type": "markdown",
   "metadata": {},
   "source": [
    "**Note: SOAP takes quite a few minutes even for a small collection**"
   ]
  },
  {
   "cell_type": "markdown",
   "metadata": {},
   "source": [
    "### Get"
   ]
  },
  {
   "cell_type": "markdown",
   "metadata": {},
   "source": [
    "To retrieve your results from the store, you may use the `get` function.\n",
    "\n",
    "`AtomsCollection.get(descriptor=\"name_of_descriptor\", idd=None, **kwargs)` \n",
    "\n",
    "You may get a result for a single aid"
   ]
  },
  {
   "cell_type": "code",
   "execution_count": 5,
   "metadata": {},
   "outputs": [
    {
     "data": {
      "text/plain": [
       "array([[ 3.9545154e-07,  3.0695119e-07,  5.2894811e-06, ...,\n",
       "         6.7849243e-08, -6.2533509e-08,  6.1898120e-08],\n",
       "       [ 4.0618261e-07,  3.2279854e-07,  5.4191169e-06, ...,\n",
       "         1.4569958e-06, -1.2224010e-06,  1.0451884e-06],\n",
       "       [ 4.9571639e-07,  4.8575771e-07,  6.4149663e-06, ...,\n",
       "         1.6219198e-06, -1.3667036e-06,  1.1908161e-06],\n",
       "       ...,\n",
       "       [ 4.0978921e-07,  3.2543298e-07,  5.4599109e-06, ...,\n",
       "         4.9699520e-07, -3.7059939e-07,  2.8500213e-07],\n",
       "       [ 3.9885427e-07,  3.0491498e-07,  5.3432996e-06, ...,\n",
       "         3.1472084e-08, -2.7238446e-08,  2.4076277e-08],\n",
       "       [ 4.8816372e-07,  4.8480155e-07,  6.3109742e-06, ...,\n",
       "         7.4221140e-07, -7.5615566e-07,  7.9348428e-07]], dtype=float32)"
      ]
     },
     "execution_count": 5,
     "metadata": {},
     "output_type": "execute_result"
    }
   ],
   "source": [
    "tut.get('soap', 'tutorial_ni.p453.out', **soapargs)"
   ]
  },
  {
   "cell_type": "markdown",
   "metadata": {},
   "source": [
    "Or for all atoms objects in the collection (for those specific parameters) by leaving out the aid parameter"
   ]
  },
  {
   "cell_type": "code",
   "execution_count": 5,
   "metadata": {
    "scrolled": true
   },
   "outputs": [],
   "source": [
    "tut.get('soap', **soapargs)"
   ]
  },
  {
   "cell_type": "markdown",
   "metadata": {},
   "source": [
    "## ASR"
   ]
  },
  {
   "cell_type": "markdown",
   "metadata": {},
   "source": [
    "Both ASR and LER are dependent on previously computed results from another descriptor (SOAP), and have a parameter named res_needed, indicating it's dependency, defaulting to 'soap'. You may set res_needed to another descriptor name (perhaps for another SOAP implementation) to change that dependency. In addition to the arguments specific to ASR to LER, you must pass in the parameters used to compute the SOAP results that will be used."
   ]
  },
  {
   "cell_type": "code",
   "execution_count": 7,
   "metadata": {},
   "outputs": [],
   "source": [
    "#run cell to see docstrings\n",
    "? descriptors.asr "
   ]
  },
  {
   "cell_type": "code",
   "execution_count": 7,
   "metadata": {
    "scrolled": false
   },
   "outputs": [
    {
     "name": "stderr",
     "output_type": "stream",
     "text": [
      "\n",
      "  0%|          | 0/7 [00:00<?, ?it/s]\u001b[A\n",
      " 14%|█▍        | 1/7 [00:00<00:01,  4.72it/s]\u001b[A\n",
      " 29%|██▊       | 2/7 [00:00<00:01,  2.79it/s]\u001b[A\n",
      " 43%|████▎     | 3/7 [00:00<00:01,  3.04it/s]\u001b[A\n",
      " 57%|█████▋    | 4/7 [00:01<00:01,  2.60it/s]\u001b[A\n",
      " 71%|███████▏  | 5/7 [00:01<00:00,  2.57it/s]\u001b[A\n",
      " 86%|████████▌ | 6/7 [00:02<00:00,  2.85it/s]\u001b[A\n",
      "100%|██████████| 7/7 [00:02<00:00,  3.08it/s]\u001b[A\n",
      "\u001b[A"
     ]
    }
   ],
   "source": [
    "tut.describe('asr', **soapargs)"
   ]
  },
  {
   "cell_type": "markdown",
   "metadata": {},
   "source": [
    "Once again, you can retrieve your results by calling the `get()` function which returns one descriptor for the atoms id passed"
   ]
  },
  {
   "cell_type": "code",
   "execution_count": 8,
   "metadata": {},
   "outputs": [
    {
     "name": "stdout",
     "output_type": "stream",
     "text": [
      "(450,)\n"
     ]
    }
   ],
   "source": [
    "aid = tut.aids()[0]\n",
    "res = tut.get('asr', aid, **soapargs)\n",
    "print(res.shape)"
   ]
  },
  {
   "cell_type": "markdown",
   "metadata": {},
   "source": [
    "or a dictionary with results for all atoms objects in the collection if no atoms id is passed into the get function."
   ]
  },
  {
   "cell_type": "code",
   "execution_count": 9,
   "metadata": {},
   "outputs": [],
   "source": [
    "res = tut.get('asr', **soapargs)\n",
    "#print(\"Dictionary of length \", len(res))\n",
    "#print(res)"
   ]
  },
  {
   "cell_type": "markdown",
   "metadata": {},
   "source": [
    "## LER"
   ]
  },
  {
   "cell_type": "code",
   "execution_count": 8,
   "metadata": {},
   "outputs": [],
   "source": [
    "#run cell to see docstrings\n",
    "? descriptors.ler "
   ]
  },
  {
   "cell_type": "code",
   "execution_count": 10,
   "metadata": {},
   "outputs": [
    {
     "name": "stderr",
     "output_type": "stream",
     "text": [
      "\n",
      "  0%|          | 0/7 [00:00<?, ?it/s]\u001b[A\n",
      " 14%|█▍        | 1/7 [00:22<02:13, 22.33s/it]\u001b[A\n",
      " 29%|██▊       | 2/7 [00:22<00:56, 11.27s/it]\u001b[A\n",
      " 43%|████▎     | 3/7 [00:22<00:30,  7.60s/it]\u001b[A\n",
      " 57%|█████▋    | 4/7 [00:22<00:17,  5.75s/it]\u001b[A\n",
      " 71%|███████▏  | 5/7 [00:23<00:09,  4.64s/it]\u001b[A\n",
      " 86%|████████▌ | 6/7 [00:23<00:03,  3.91s/it]\u001b[A\n",
      "100%|██████████| 7/7 [00:23<00:00,  3.42s/it]\u001b[A\n",
      "\u001b[A"
     ]
    },
    {
     "data": {
      "text/plain": [
       "array([0.99378613, 0.00283164, 0.00176977, 0.00161246])"
      ]
     },
     "execution_count": 10,
     "metadata": {},
     "output_type": "execute_result"
    }
   ],
   "source": [
    "lerargs = {\n",
    "    'eps': 0.05,\n",
    "    'collection': tut,\n",
    "}\n",
    "tut.describe('ler', **soapargs, **lerargs)\n",
    "\n",
    "aid = tut.aids()[0]\n",
    "tut.get('ler', aid, **soapargs, **lerargs)\n",
    "#tut.get('ler', **soapargs, **lerargs)"
   ]
  },
  {
   "cell_type": "markdown",
   "metadata": {},
   "source": [
    "### Clear"
   ]
  },
  {
   "cell_type": "markdown",
   "metadata": {},
   "source": [
    "Sometimes you may want to remove certain results from your store, in which case you can use the `clear` function. \n",
    "`AtomsCollection.clear(descriptor=None, idd=None, **kwargs)`\n",
    "\n",
    "\n",
    "As a versatile function you may:\n",
    "- remove a result for a specific Atoms object\n",
    "    - `tut.clear(\"ler\", aid, **soapargs, **lerargs)`\n",
    "- remove specific results for all Atoms objects in the collection\n",
    "    - `tut.clear(\"tut\", **soapargs, **lerargs)`\n",
    "- remove all results for a certain type of descriptor, and\n",
    "    - `tut.clear(\"ler\")`\n",
    "- remove all results in the store\n",
    "    - `tut.clear()`"
   ]
  },
  {
   "cell_type": "markdown",
   "metadata": {},
   "source": [
    "## Custom Descriptor"
   ]
  },
  {
   "cell_type": "markdown",
   "metadata": {},
   "source": [
    "Collections also have the ability to use custom descriptors. All we do is define a function for the descriptor we want to use, than pass into describe as the `fcn` parameter along with a descriptive name that will be used to the store the descriptor."
   ]
  },
  {
   "cell_type": "markdown",
   "metadata": {},
   "source": [
    "To define a custom descriptor function, the first parameter must be the ASE atoms object that is being described."
   ]
  },
  {
   "cell_type": "code",
   "execution_count": 11,
   "metadata": {},
   "outputs": [
    {
     "name": "stderr",
     "output_type": "stream",
     "text": [
      "\n",
      "  0%|          | 0/7 [00:00<?, ?it/s]\u001b[A\n",
      " 14%|█▍        | 1/7 [00:01<00:07,  1.26s/it]\u001b[A\n",
      "100%|██████████| 7/7 [00:01<00:00,  5.27it/s]\u001b[A"
     ]
    },
    {
     "data": {
      "text/plain": [
       "[20, 1.0, 2.0, 3.0]"
      ]
     },
     "execution_count": 11,
     "metadata": {},
     "output_type": "execute_result"
    }
   ],
   "source": [
    "def custom_descriptor1(atoms, arg1, arg2, arg3):\n",
    "    aid = atoms.get_array(\"aid\")[0]\n",
    "    return [len(aid), arg1, arg2, arg3]\n",
    "\n",
    "custom_descriptor1args = {\n",
    "    'arg1': 1.,\n",
    "    'arg2': 2.,\n",
    "    'arg3': 3.\n",
    "}\n",
    "\n",
    "tut.describe('custom_descriptor1', fcn=custom_descriptor1, **custom_descriptor1args)\n",
    "\n",
    "aid = tut.aids()[0]\n",
    "tut.get('custom_descriptor1', aid, **custom_descriptor1args)"
   ]
  },
  {
   "cell_type": "markdown",
   "metadata": {},
   "source": [
    "If the custom descriptor depends on another descriptor (like LER depends on SOAP), then the second parameter must be a results store which can be used to obtain that information, or else a result store will not be passed in automatically. Additionally, you may choose to include an optional parameter (res_needed) indicating what previously computed results to draw from."
   ]
  },
  {
   "cell_type": "code",
   "execution_count": 12,
   "metadata": {},
   "outputs": [
    {
     "name": "stderr",
     "output_type": "stream",
     "text": [
      "\n",
      "  0%|          | 0/7 [00:00<?, ?it/s]\u001b[A\n",
      " 29%|██▊       | 2/7 [00:00<00:00,  7.54it/s]\u001b[A\n",
      "100%|██████████| 7/7 [00:00<00:00, 24.93it/s]\u001b[A"
     ]
    },
    {
     "data": {
      "text/plain": [
       "[200.0, 10.0, 20.0, 30.0]"
      ]
     },
     "execution_count": 12,
     "metadata": {},
     "output_type": "execute_result"
    }
   ],
   "source": [
    "def custom_descriptor2(atoms, store, res_needed=\"custom_descriptor1\", arg1, arg2, arg3, arg4):\n",
    "    aid = atoms.get_array(\"aid\")[0] \n",
    "    #the aid is attached to the ASE atoms object in an array labelled \"aid\", so to get the aid \n",
    "    #from the object use the above command\n",
    "    cd1 = store.get(res_needed, aid, arg1=arg1, arg2=arg2, arg3=arg3)\n",
    "    return [x * arg4 for x in cd1]\n",
    "\n",
    "custom_descriptor2args = {\n",
    "    'arg4': 10.\n",
    "}\n",
    "\n",
    "tut.describe('custom_descriptor2', fcn=custom_descriptor2, **custom_descriptor1args, **custom_descriptor2args)\n",
    "\n",
    "aid = tut.aids()[0]\n",
    "tut.get('custom_descriptor2', aid, **custom_descriptor1args, **custom_descriptor2args)"
   ]
  },
  {
   "cell_type": "markdown",
   "metadata": {},
   "source": [
    "## How Files are Stored"
   ]
  },
  {
   "cell_type": "markdown",
   "metadata": {},
   "source": [
    "The descriptions created are stored in a directory structure with teirs like this: \n",
    "    main_store => descriptors => aids => descriptions.pkl\n",
    "\n",
    "The filenames are aggregates of the descriptor, aid, and parameters to create a unique filename of form\n",
    "`descriptor__aid__arg1_1__arg2_2__arg3_3.pkl`\n",
    "\n",
    "For example,\n",
    "\n",
    "`asr__tutorial_ni.p453.out___lmax_9___nmax_9___rcut_5.0.pkl`\n",
    "\n",
    "If you are having trouble finding your results with the get function, check the filename in your store-- you might be missing a required parameter"
   ]
  },
  {
   "cell_type": "code",
   "execution_count": null,
   "metadata": {},
   "outputs": [],
   "source": []
  }
 ],
 "metadata": {
  "kernelspec": {
   "display_name": "Python 3",
   "language": "python",
   "name": "python3"
  },
  "language_info": {
   "codemirror_mode": {
    "name": "ipython",
    "version": 3
   },
   "file_extension": ".py",
   "mimetype": "text/x-python",
   "name": "python",
   "nbconvert_exporter": "python",
   "pygments_lexer": "ipython3",
   "version": "3.6.9"
  }
 },
 "nbformat": 4,
 "nbformat_minor": 2
}
