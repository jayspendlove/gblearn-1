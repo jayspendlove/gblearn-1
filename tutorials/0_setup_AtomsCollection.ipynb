{
 "cells": [
  {
   "cell_type": "markdown",
   "source": [
    "# Reading Atoms\n",
    "\n",
    "[Documentation for `pyrelate`](https://msg-byu.github.io/pyrelate/)"
   ],
   "metadata": {}
  },
  {
   "cell_type": "markdown",
   "source": [
    "The main structure the `pyrelate` package creates and utilizes is an AtomsCollection, which is a dictionary, with additional data members of 'name' (a string) and a 'Store' object which facilitates storing and retrieval of results. The dictionary holds ASE Atoms objects as the values, and the keys correspond to a unique atoms id (aid)."
   ],
   "metadata": {}
  },
  {
   "cell_type": "markdown",
   "source": [
    "### Step 1: Create an AtomsCollection "
   ],
   "metadata": {}
  },
  {
   "cell_type": "markdown",
   "source": [
    "To create the atoms collection we first import AtomsCollection from `pyrelate`. Then we create the collection by passing in the collection name and the path to where we want the results to be stored.\n",
    "\n",
    "`AtomsCollection(name='name_of_collection', location='../location/for/store')`\n",
    "\n",
    "**Note:** Some descriptors (including LER) are collection specific, so you will want to make sure to choose unique AtomsCollection names."
   ],
   "metadata": {}
  },
  {
   "cell_type": "code",
   "execution_count": 8,
   "source": [
    "import sys\n",
    "sys.path.append(\"../\")\n",
    "\n",
    "from pyrelate.collection import AtomsCollection\n",
    "tut = AtomsCollection('tutorial1', 'tutorial_store')\n",
    "print(\"Collection name:\", tut)\n",
    "print(\"Store location:\", tut.store)"
   ],
   "outputs": [
    {
     "output_type": "stream",
     "name": "stdout",
     "text": [
      "Collection name: tutorial1\n",
      "Store location: tutorial_store\n"
     ]
    }
   ],
   "metadata": {}
  },
  {
   "cell_type": "markdown",
   "source": [
    "Alternatively, location defaults to None, and default initiation creates a Store entitled 'store' in current directory."
   ],
   "metadata": {}
  },
  {
   "cell_type": "code",
   "execution_count": 5,
   "source": [
    "col = AtomsCollection(\"illustrative_collection\")\n",
    "print(\"Collection name:\", col)\n",
    "print(\"Store location:\", col.store)"
   ],
   "outputs": [
    {
     "output_type": "stream",
     "name": "stdout",
     "text": [
      "Collection name: illustrative_collection\n",
      "Store location: store\n"
     ]
    }
   ],
   "metadata": {}
  },
  {
   "cell_type": "code",
   "execution_count": 13,
   "source": [
    "def _delete_store(store):\n",
    "    import shutil\n",
    "    shutil.rmtree(store.root)\n",
    "\n",
    "_delete_store(col.store)"
   ],
   "outputs": [],
   "metadata": {}
  },
  {
   "cell_type": "markdown",
   "source": [
    "### Step 2: Read in the atoms"
   ],
   "metadata": {}
  },
  {
   "cell_type": "markdown",
   "source": [
    "With the collection created, we now work on reading in the correct atoms object. This is done through the collection's `read()` function which utilizes the ASE atoms object's read function.\n",
    "\n",
    "`AtomsCollection.read(root=\"../location/of/input/file\", Z=atomic_number, f_format=None, rxid=None, prefix=None)`\n",
    "\n",
    "The f_format parameter is an optional parameter (defaults to None) for the type of input file, which is then used in ASE's read function. Automatic file type detection is supported, so including this parameter should not be necessary. For additional information on supported filetypes see [ASE documentation for file input and output](https://wiki.fysik.dtu.dk/ase/ase/io/io.html)"
   ],
   "metadata": {}
  },
  {
   "cell_type": "markdown",
   "source": [
    "Read will take atomic information from an input file and read into ASE Atoms objects. This first parameter can either be a single file path,"
   ],
   "metadata": {}
  },
  {
   "cell_type": "code",
   "execution_count": 9,
   "source": [
    "tut.read('tutorial_data/ni.p453.out', 28)\n",
    "\n",
    "for aid in tut.aids():\n",
    "    print(f'{aid}')"
   ],
   "outputs": [
    {
     "output_type": "stream",
     "name": "stdout",
     "text": [
      "ni.p453.out\n"
     ]
    }
   ],
   "metadata": {}
  },
  {
   "cell_type": "markdown",
   "source": [
    "a directory,"
   ],
   "metadata": {}
  },
  {
   "cell_type": "code",
   "execution_count": 10,
   "source": [
    "tut.read('tutorial_data/sub1', 28, f_format='lammps-dump-text')\n",
    "\n",
    "for aid in tut.aids():\n",
    "    print(f'{aid}')"
   ],
   "outputs": [
    {
     "output_type": "stream",
     "name": "stdout",
     "text": [
      "ni.p453.out\n",
      "ni.p456.out\n"
     ]
    }
   ],
   "metadata": {}
  },
  {
   "cell_type": "markdown",
   "source": [
    "or a list of file paths and/or directories."
   ],
   "metadata": {}
  },
  {
   "cell_type": "code",
   "execution_count": 11,
   "source": [
    "tut.read(['tutorial_data/sub2', 'tutorial_data/ni.p455.out'], 28)\n",
    "\n",
    "for aid in tut.aids():\n",
    "    print(f'{aid}')"
   ],
   "outputs": [
    {
     "output_type": "stream",
     "name": "stderr",
     "text": [
      "100%|██████████| 2/2 [00:01<00:00,  1.06it/s]"
     ]
    },
    {
     "output_type": "stream",
     "name": "stdout",
     "text": [
      "ni.p453.out\n",
      "ni.p455.out\n",
      "ni.p456.out\n",
      "ni.p457.out\n"
     ]
    },
    {
     "output_type": "stream",
     "name": "stderr",
     "text": [
      "\n"
     ]
    }
   ],
   "metadata": {
    "scrolled": true
   }
  },
  {
   "cell_type": "markdown",
   "source": [
    "Additionally, if you pass a directory in it will recursively find all the files to read in it's subdirectories."
   ],
   "metadata": {}
  },
  {
   "cell_type": "code",
   "execution_count": 14,
   "source": [
    "tut.read('tutorial_data' , 28, f_format='lammps-dump-text')\n",
    "\n",
    "tut.aids()\n",
    "# for aid in tut.aids():\n",
    "#     print(f'{aid}')"
   ],
   "outputs": [
    {
     "output_type": "execute_result",
     "data": {
      "text/plain": [
       "['ni.p453.out',\n",
       " 'ni.p454.out',\n",
       " 'ni.p455.out',\n",
       " 'ni.p456.out',\n",
       " 'ni.p457.out',\n",
       " 'ni.p458.out',\n",
       " 'ni.p459.out']"
      ]
     },
     "metadata": {},
     "execution_count": 14
    }
   ],
   "metadata": {}
  },
  {
   "cell_type": "code",
   "execution_count": 15,
   "source": [
    "tut2 = AtomsCollection('tutorial2', 'tutorial_store')"
   ],
   "outputs": [],
   "metadata": {}
  },
  {
   "cell_type": "markdown",
   "source": [
    "In the AtomsCollection (which inherits from a Python `dict`), the key for the individual ASE atoms objects has above been referred to as the Atoms ID. This unique identifier is also used in the storing of results. There are a couple of ways to specify how the Atoms ID (aid) is to be generated. In the above examples the default set the filename of the original LAAMPS file as the aid. There are 2 optional parameters in `read` for specifying how the aid for each atomic structure is created, `prefix` and `rxid`. Both default to None."
   ],
   "metadata": {}
  },
  {
   "cell_type": "markdown",
   "source": [
    "You may indicate a prefix to be attached to the beginning of the aid"
   ],
   "metadata": {}
  },
  {
   "cell_type": "code",
   "execution_count": 16,
   "source": [
    "tut2.read('tutorial_data/ni.p453.out', 28, prefix='tutorial')\n",
    "\n",
    "print(tut2.aids())"
   ],
   "outputs": [
    {
     "output_type": "stream",
     "name": "stdout",
     "text": [
      "['tutorial_ni.p453.out']\n"
     ]
    }
   ],
   "metadata": {}
  },
  {
   "cell_type": "markdown",
   "source": [
    "Additionally, you may indicate a regex phrase to extract desired information to be used in the aid. The regex should include a named group `(?P<aid>...)` so that the id can be extracted correctly.  If any files don't match the regex or if it is not specified, the file name is used in the aid."
   ],
   "metadata": {}
  },
  {
   "cell_type": "code",
   "execution_count": 17,
   "source": [
    "tut2.read('tutorial_data/ni.p454.out', 28, rxid=r'ni.p(?P<aid>\\d+).out', prefix='tutorial')\n",
    "\n",
    "for aid in tut2.aids():\n",
    "    print(f'{aid}')"
   ],
   "outputs": [
    {
     "output_type": "stream",
     "name": "stdout",
     "text": [
      "tutorial_454\n",
      "tutorial_ni.p453.out\n"
     ]
    }
   ],
   "metadata": {}
  },
  {
   "cell_type": "markdown",
   "source": [
    "The read function will not read in a file if an identical aid is already found in the collection, however if you use different parameters (for prefix and rxid) it is possible to read in the same atomic information multiple times under different aids, which could negatively affect results. Therefore it is recommended to use the same parameters for all atoms objects read into an AtomsCollection. As a way to check what the aids are set as you may use the `AtomsCollection.aids()` function to get a list of the atoms id's in the collection."
   ],
   "metadata": {}
  },
  {
   "cell_type": "code",
   "execution_count": 19,
   "source": [
    "a = tut2.aids()\n",
    "print(a)"
   ],
   "outputs": [
    {
     "output_type": "stream",
     "name": "stdout",
     "text": [
      "['tutorial_454', 'tutorial_ni.p453.out']\n"
     ]
    }
   ],
   "metadata": {}
  },
  {
   "cell_type": "code",
   "execution_count": 20,
   "source": [
    "_delete_store(tut.store)"
   ],
   "outputs": [],
   "metadata": {}
  }
 ],
 "metadata": {
  "kernelspec": {
   "name": "python3",
   "display_name": "Python 3.8.10 64-bit ('venv-pyrelate': venv)"
  },
  "language_info": {
   "codemirror_mode": {
    "name": "ipython",
    "version": 3
   },
   "file_extension": ".py",
   "mimetype": "text/x-python",
   "name": "python",
   "nbconvert_exporter": "python",
   "pygments_lexer": "ipython3",
   "version": "3.8.10"
  },
  "interpreter": {
   "hash": "060938179502f580603b0a9522589e060aac3b0ab8f274b7d57349c92e9768d7"
  }
 },
 "nbformat": 4,
 "nbformat_minor": 2
}