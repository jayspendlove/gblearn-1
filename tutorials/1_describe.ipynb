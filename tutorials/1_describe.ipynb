{
 "cells": [
  {
   "cell_type": "markdown",
   "metadata": {},
   "source": [
    "# Describing Collections\n",
    "\n",
    "[Documentation for `pyrelate`](https://msg-byu.github.io/pyrelate/)"
   ]
  },
  {
   "cell_type": "code",
   "execution_count": null,
   "metadata": {},
   "outputs": [],
   "source": [
    "import sys\n",
    "sys.path.append(\"../\")\n",
    "from pyrelate.collection import AtomsCollection\n",
    "\n",
    "tut = AtomsCollection('tutorial', 'tutorial_store')\n",
    "tut.read('tutorial_data/', 28, f_format='lammps-dump-text', prefix='tutorial')"
   ]
  },
  {
   "cell_type": "markdown",
   "metadata": {},
   "source": [
    "With a collection created and the atoms read in, we can start to calculate descriptors for these collections."
   ]
  },
  {
   "cell_type": "markdown",
   "metadata": {},
   "source": [
    "To calculate descriptors, we use the collection's `describe()` function which can be used to calculate built-in or custom descriptors."
   ]
  },
  {
   "cell_type": "markdown",
   "metadata": {},
   "source": [
    "`pyrelate` comes with three built-in descriptors, the\n",
    "* Smooth Overlap of Atomic Position (SOAP)\n",
    "* Averaged SOAP Representation (ASR)\n",
    "* Local Environment Representation (LER)\n",
    "\n",
    "**Note that both ASR and LER depend on SOAP, which must be calculated first**"
   ]
  },
  {
   "cell_type": "markdown",
   "metadata": {},
   "source": [
    "To use these built in descriptors we just specify the name of descriptor and all the arguments the descriptor needs.\n",
    "\n",
    "```python\n",
    "kwargs={\n",
    "    \"all\": \"of\", \n",
    "    \"the\":\"args\", \n",
    "    \"for\": \"descriptor\"\n",
    "    }\n",
    "    \n",
    "AtomsCollection.describe(descriptor=\"name_of_descriptor\", fcn=None, needs_store=False, **kwargs)\n",
    "```"
   ]
  },
  {
   "cell_type": "markdown",
   "metadata": {},
   "source": [
    "## SOAP"
   ]
  },
  {
   "cell_type": "code",
   "execution_count": 4,
   "metadata": {
    "scrolled": true
   },
   "outputs": [
    {
     "name": "stderr",
     "output_type": "stream",
     "text": [
      "\n",
      "  0%|          | 0/7 [00:00<?, ?it/s]\u001b[A\n",
      " 14%|█▍        | 1/7 [06:00<36:02, 360.43s/it]\u001b[A\n",
      " 29%|██▊       | 2/7 [20:25<51:04, 612.89s/it]\u001b[A\n",
      " 43%|████▎     | 3/7 [22:51<30:28, 457.25s/it]\u001b[A\n",
      " 57%|█████▋    | 4/7 [32:31<24:23, 487.94s/it]\u001b[A\n",
      " 71%|███████▏  | 5/7 [39:13<15:41, 470.73s/it]\u001b[A\n",
      " 86%|████████▌ | 6/7 [40:32<06:45, 405.47s/it]\u001b[A\n",
      "100%|██████████| 7/7 [41:37<00:00, 356.83s/it]\u001b[A\n",
      "\u001b[A"
     ]
    }
   ],
   "source": [
    "soapargs = {\n",
    "    'rcut': 5.,\n",
    "    'lmax': 9,\n",
    "    'nmax': 9\n",
    "}\n",
    "tut.describe('soap', **soapargs)"
   ]
  },
  {
   "cell_type": "markdown",
   "metadata": {},
   "source": [
    "**Note: SOAP takes quite a few minutes even for a small collection**"
   ]
  },
  {
   "cell_type": "markdown",
   "metadata": {},
   "source": [
    "To retrieve your results from the store, you may use the `get` function.\n",
    "\n",
    "`AtomsCollection.get(descriptor=\"name_of_descriptor\", aid=None, **kwargs)` \n",
    "\n",
    "You may get a result for a single aid"
   ]
  },
  {
   "cell_type": "code",
   "execution_count": 5,
   "metadata": {},
   "outputs": [
    {
     "data": {
      "text/plain": [
       "array([[ 3.9545154e-07,  3.0695119e-07,  5.2894811e-06, ...,\n",
       "         6.7849243e-08, -6.2533509e-08,  6.1898120e-08],\n",
       "       [ 4.0618261e-07,  3.2279854e-07,  5.4191169e-06, ...,\n",
       "         1.4569958e-06, -1.2224010e-06,  1.0451884e-06],\n",
       "       [ 4.9571639e-07,  4.8575771e-07,  6.4149663e-06, ...,\n",
       "         1.6219198e-06, -1.3667036e-06,  1.1908161e-06],\n",
       "       ...,\n",
       "       [ 4.0978921e-07,  3.2543298e-07,  5.4599109e-06, ...,\n",
       "         4.9699520e-07, -3.7059939e-07,  2.8500213e-07],\n",
       "       [ 3.9885427e-07,  3.0491498e-07,  5.3432996e-06, ...,\n",
       "         3.1472084e-08, -2.7238446e-08,  2.4076277e-08],\n",
       "       [ 4.8816372e-07,  4.8480155e-07,  6.3109742e-06, ...,\n",
       "         7.4221140e-07, -7.5615566e-07,  7.9348428e-07]], dtype=float32)"
      ]
     },
     "execution_count": 5,
     "metadata": {},
     "output_type": "execute_result"
    }
   ],
   "source": [
    "tut.get('soap', 'tutorial_ni.p453.out', **soapargs)"
   ]
  },
  {
   "cell_type": "markdown",
   "metadata": {},
   "source": [
    "Or for all atoms objects in the collection (for those specific parameters) by leaving out the aid parameter"
   ]
  },
  {
   "cell_type": "code",
   "execution_count": 6,
   "metadata": {
    "scrolled": true
   },
   "outputs": [
    {
     "data": {
      "text/plain": [
       "{'tutorial_ni.p453.out': array([[ 3.9545154e-07,  3.0695119e-07,  5.2894811e-06, ...,\n",
       "          6.7849243e-08, -6.2533509e-08,  6.1898120e-08],\n",
       "        [ 4.0618261e-07,  3.2279854e-07,  5.4191169e-06, ...,\n",
       "          1.4569958e-06, -1.2224010e-06,  1.0451884e-06],\n",
       "        [ 4.9571639e-07,  4.8575771e-07,  6.4149663e-06, ...,\n",
       "          1.6219198e-06, -1.3667036e-06,  1.1908161e-06],\n",
       "        ...,\n",
       "        [ 4.0978921e-07,  3.2543298e-07,  5.4599109e-06, ...,\n",
       "          4.9699520e-07, -3.7059939e-07,  2.8500213e-07],\n",
       "        [ 3.9885427e-07,  3.0491498e-07,  5.3432996e-06, ...,\n",
       "          3.1472084e-08, -2.7238446e-08,  2.4076277e-08],\n",
       "        [ 4.8816372e-07,  4.8480155e-07,  6.3109742e-06, ...,\n",
       "          7.4221140e-07, -7.5615566e-07,  7.9348428e-07]], dtype=float32),\n",
       " 'tutorial_ni.p454.out': array([[ 2.5282091e-07,  4.0842362e-08,  3.6461845e-06, ...,\n",
       "          3.3861991e-06, -2.4801186e-06,  1.8458626e-06],\n",
       "        [ 4.1881850e-07,  3.3282748e-07,  5.5675955e-06, ...,\n",
       "          5.0248364e-06, -3.6964905e-06,  2.7628516e-06],\n",
       "        [ 3.2485184e-07,  1.7262003e-07,  4.4727917e-06, ...,\n",
       "          3.9571628e-06, -2.9708217e-06,  2.2674083e-06],\n",
       "        ...,\n",
       "        [ 7.9481197e-07,  1.1800854e-06,  9.6287304e-06, ...,\n",
       "          5.7635402e-06, -4.5058446e-06,  3.6554413e-06],\n",
       "        [ 3.4692579e-07,  2.1637315e-07,  4.7338949e-06, ...,\n",
       "          2.3924792e-06, -1.6937521e-06,  1.2260010e-06],\n",
       "        [ 4.1320845e-07,  3.2738700e-07,  5.5037349e-06, ...,\n",
       "          2.7631650e-06, -2.1609474e-06,  1.7039600e-06]], dtype=float32),\n",
       " 'tutorial_ni.p455.out': array([[ 4.0835937e-07,  3.2035902e-07,  5.4484135e-06, ...,\n",
       "          3.5086405e-08, -3.0077207e-08,  2.5998141e-08],\n",
       "        [ 4.1088319e-07,  3.2506509e-07,  5.4746297e-06, ...,\n",
       "          4.5267878e-08, -3.8741408e-08,  3.3465966e-08],\n",
       "        [ 4.0130334e-07,  3.0696995e-07,  5.3737904e-06, ...,\n",
       "          4.7287124e-08, -4.0011674e-08,  3.4127716e-08],\n",
       "        ...,\n",
       "        [ 3.9608318e-07,  2.9983565e-07,  5.3135727e-06, ...,\n",
       "          5.1451924e-08, -4.0819621e-08,  3.6077306e-08],\n",
       "        [ 3.9904452e-07,  3.0307368e-07,  5.3559033e-06, ...,\n",
       "          1.5865866e-06, -1.3227481e-06,  1.1080349e-06],\n",
       "        [ 3.8918188e-07,  2.9086306e-07,  5.2337596e-06, ...,\n",
       "          5.9575903e-08, -6.0354303e-08,  6.3948796e-08]], dtype=float32),\n",
       " 'tutorial_ni.p456.out': array([[ 2.0536531e-06,  4.6056098e-06,  2.0906858e-05, ...,\n",
       "          4.8991010e-06, -4.2556521e-06,  3.7863274e-06],\n",
       "        [ 3.0185285e-07,  1.2287671e-07,  4.2491738e-06, ...,\n",
       "          4.0065711e-06, -3.0300364e-06,  2.3880843e-06],\n",
       "        [ 1.6350047e-06,  3.4271375e-06,  1.7443177e-05, ...,\n",
       "          8.4600506e-06, -7.2709436e-06,  6.3238408e-06],\n",
       "        ...,\n",
       "        [ 7.8455884e-07,  1.1659864e-06,  9.5296837e-06, ...,\n",
       "          7.5883459e-06, -6.1315018e-06,  5.0759104e-06],\n",
       "        [ 3.3111593e-07,  1.7681718e-07,  4.5950428e-06, ...,\n",
       "          2.5276158e-06, -1.9644860e-06,  1.5531004e-06],\n",
       "        [ 2.2444738e-06,  5.1736210e-06,  2.2435583e-05, ...,\n",
       "          7.1263121e-06, -5.8367837e-06,  4.8066649e-06]], dtype=float32),\n",
       " 'tutorial_ni.p457.out': array([[ 4.4282169e-07,  3.6196084e-07,  5.8438563e-06, ...,\n",
       "          6.2566328e-06, -5.1803108e-06,  4.3622522e-06],\n",
       "        [ 4.9601061e-07,  4.8414489e-07,  6.3951798e-06, ...,\n",
       "          4.6376690e-06, -3.8206090e-06,  3.2124901e-06],\n",
       "        [ 4.1454328e-07,  3.3379655e-07,  5.5035912e-06, ...,\n",
       "          2.4084461e-06, -1.6032195e-06,  1.0734509e-06],\n",
       "        ...,\n",
       "        [ 4.0688565e-07,  3.2275256e-07,  5.4163402e-06, ...,\n",
       "          2.7823978e-07, -1.5803975e-07,  9.0260222e-08],\n",
       "        [ 5.0011238e-07,  4.7425613e-07,  6.5296604e-06, ...,\n",
       "          4.5063111e-06, -3.0035810e-06,  2.0213565e-06],\n",
       "        [ 4.2315722e-07,  3.4023742e-07,  5.6242047e-06, ...,\n",
       "          4.4307249e-06, -3.4933935e-06,  2.7661119e-06]], dtype=float32),\n",
       " 'tutorial_ni.p458.out': array([[ 4.1098846e-07,  3.2415872e-07,  5.4783332e-06, ...,\n",
       "          1.7954276e-08, -1.6086965e-08,  1.4560711e-08],\n",
       "        [ 4.1083868e-07,  3.2468827e-07,  5.4749821e-06, ...,\n",
       "          2.4991747e-08, -2.1512378e-08,  1.8753067e-08],\n",
       "        [ 4.1541287e-07,  3.3485318e-07,  5.5189289e-06, ...,\n",
       "          5.4852766e-08, -4.5984571e-08,  3.8920390e-08],\n",
       "        ...,\n",
       "        [ 3.9142782e-07,  2.9034749e-07,  5.2647565e-06, ...,\n",
       "          9.0496478e-08, -7.7150588e-08,  6.6539947e-08],\n",
       "        [ 3.8328719e-07,  2.7243928e-07,  5.1852480e-06, ...,\n",
       "          1.9309055e-06, -1.5162500e-06,  1.1949879e-06],\n",
       "        [ 3.8090712e-07,  2.7169997e-07,  5.1524135e-06, ...,\n",
       "          8.3975863e-07, -6.5249998e-07,  5.1648652e-07]], dtype=float32),\n",
       " 'tutorial_ni.p459.out': array([[ 4.8342628e-07,  4.5335238e-07,  6.3027251e-06, ...,\n",
       "          6.3740035e-06, -5.1877987e-06,  4.2754605e-06],\n",
       "        [ 3.9731762e-07,  2.9853527e-07,  5.3350882e-06, ...,\n",
       "          3.9296255e-09, -3.0463543e-09,  2.4233686e-09],\n",
       "        [ 3.9898336e-07,  3.1227199e-07,  5.3263116e-06, ...,\n",
       "          4.2128551e-08, -3.1716880e-08,  2.5771772e-08],\n",
       "        ...,\n",
       "        [ 5.1468686e-07,  5.3058682e-07,  6.5611048e-06, ...,\n",
       "          1.8667855e-06, -1.5983429e-06,  1.4508890e-06],\n",
       "        [ 5.0201618e-07,  4.9076419e-07,  6.4911424e-06, ...,\n",
       "          6.9986272e-06, -5.6353329e-06,  4.5961842e-06],\n",
       "        [ 4.2811402e-07,  3.6006986e-07,  5.6548533e-06, ...,\n",
       "          9.4560147e-07, -7.4691070e-07,  6.1050798e-07]], dtype=float32)}"
      ]
     },
     "execution_count": 6,
     "metadata": {},
     "output_type": "execute_result"
    }
   ],
   "source": [
    "tut.get('soap', **soapargs)"
   ]
  },
  {
   "cell_type": "markdown",
   "metadata": {},
   "source": [
    "## ASR"
   ]
  },
  {
   "cell_type": "markdown",
   "metadata": {},
   "source": [
    "As both ASR and LER are dependent on another descriptor, we must set the `needs_store` boolean to true, and must also pass in the arguments of the descriptor they depend on, along with any other parameters ASR or LER needs."
   ]
  },
  {
   "cell_type": "code",
   "execution_count": 7,
   "metadata": {
    "scrolled": false
   },
   "outputs": [
    {
     "name": "stderr",
     "output_type": "stream",
     "text": [
      "\n",
      "  0%|          | 0/7 [00:00<?, ?it/s]\u001b[A\n",
      " 14%|█▍        | 1/7 [00:00<00:01,  4.72it/s]\u001b[A\n",
      " 29%|██▊       | 2/7 [00:00<00:01,  2.79it/s]\u001b[A\n",
      " 43%|████▎     | 3/7 [00:00<00:01,  3.04it/s]\u001b[A\n",
      " 57%|█████▋    | 4/7 [00:01<00:01,  2.60it/s]\u001b[A\n",
      " 71%|███████▏  | 5/7 [00:01<00:00,  2.57it/s]\u001b[A\n",
      " 86%|████████▌ | 6/7 [00:02<00:00,  2.85it/s]\u001b[A\n",
      "100%|██████████| 7/7 [00:02<00:00,  3.08it/s]\u001b[A\n",
      "\u001b[A"
     ]
    }
   ],
   "source": [
    "tut.describe('asr', needs_store=True, **soapargs)"
   ]
  },
  {
   "cell_type": "markdown",
   "metadata": {},
   "source": [
    "Once again, you can retrieve your results by calling the `get()` function which returns one descriptor for the atoms id passed"
   ]
  },
  {
   "cell_type": "code",
   "execution_count": 8,
   "metadata": {},
   "outputs": [
    {
     "name": "stdout",
     "output_type": "stream",
     "text": [
      "(450,)\n"
     ]
    }
   ],
   "source": [
    "aid = tut.aids()[0]\n",
    "res = tut.get('asr', aid, **soapargs)\n",
    "print(res.shape)"
   ]
  },
  {
   "cell_type": "markdown",
   "metadata": {},
   "source": [
    "or a dictionary with results for all atoms objects in the collection if no atoms id is passed into the get function."
   ]
  },
  {
   "cell_type": "code",
   "execution_count": 9,
   "metadata": {},
   "outputs": [],
   "source": [
    "res = tut.get('asr', **soapargs)\n",
    "#print(\"Dictionary of length \", len(res))\n",
    "#print(res)"
   ]
  },
  {
   "cell_type": "markdown",
   "metadata": {},
   "source": [
    "## LER"
   ]
  },
  {
   "cell_type": "code",
   "execution_count": 10,
   "metadata": {},
   "outputs": [
    {
     "name": "stderr",
     "output_type": "stream",
     "text": [
      "\n",
      "  0%|          | 0/7 [00:00<?, ?it/s]\u001b[A\n",
      " 14%|█▍        | 1/7 [00:22<02:13, 22.33s/it]\u001b[A\n",
      " 29%|██▊       | 2/7 [00:22<00:56, 11.27s/it]\u001b[A\n",
      " 43%|████▎     | 3/7 [00:22<00:30,  7.60s/it]\u001b[A\n",
      " 57%|█████▋    | 4/7 [00:22<00:17,  5.75s/it]\u001b[A\n",
      " 71%|███████▏  | 5/7 [00:23<00:09,  4.64s/it]\u001b[A\n",
      " 86%|████████▌ | 6/7 [00:23<00:03,  3.91s/it]\u001b[A\n",
      "100%|██████████| 7/7 [00:23<00:00,  3.42s/it]\u001b[A\n",
      "\u001b[A"
     ]
    },
    {
     "data": {
      "text/plain": [
       "array([0.99378613, 0.00283164, 0.00176977, 0.00161246])"
      ]
     },
     "execution_count": 10,
     "metadata": {},
     "output_type": "execute_result"
    }
   ],
   "source": [
    "lerargs = {\n",
    "    'eps': 0.05,\n",
    "    'collection': tut,\n",
    "}\n",
    "tut.describe('ler', needs_store=True, **soapargs, **lerargs)\n",
    "\n",
    "aid = tut.aids()[0]\n",
    "tut.get('ler', aid, **soapargs, **lerargs)\n",
    "#tut.get('ler', **soapargs, **lerargs)"
   ]
  },
  {
   "cell_type": "markdown",
   "metadata": {},
   "source": [
    "## Custom Descriptor"
   ]
  },
  {
   "cell_type": "markdown",
   "metadata": {},
   "source": [
    "Collections also have the ability to use custom descriptors. All we do is define a function for the descriptor we want to use, than pass into describe as the `fcn` parameter along with a descriptive name that will be used to the store the descriptor."
   ]
  },
  {
   "cell_type": "markdown",
   "metadata": {},
   "source": [
    "To define a custom descriptor function, the first parameter must be the ASE atoms object that is being described."
   ]
  },
  {
   "cell_type": "code",
   "execution_count": 11,
   "metadata": {},
   "outputs": [
    {
     "name": "stderr",
     "output_type": "stream",
     "text": [
      "\n",
      "  0%|          | 0/7 [00:00<?, ?it/s]\u001b[A\n",
      " 14%|█▍        | 1/7 [00:01<00:07,  1.26s/it]\u001b[A\n",
      "100%|██████████| 7/7 [00:01<00:00,  5.27it/s]\u001b[A"
     ]
    },
    {
     "data": {
      "text/plain": [
       "[20, 1.0, 2.0, 3.0]"
      ]
     },
     "execution_count": 11,
     "metadata": {},
     "output_type": "execute_result"
    }
   ],
   "source": [
    "def custom_descriptor1(atoms, arg1, arg2, arg3):\n",
    "    aid = atoms.get_array(\"aid\")[0]\n",
    "    return [len(aid), arg1, arg2, arg3]\n",
    "\n",
    "custom_descriptor1args = {\n",
    "    'arg1': 1.,\n",
    "    'arg2': 2.,\n",
    "    'arg3': 3.\n",
    "}\n",
    "\n",
    "tut.describe('custom_descriptor1', fcn=custom_descriptor1, **custom_descriptor1args)\n",
    "\n",
    "aid = tut.aids()[0]\n",
    "tut.get('custom_descriptor1', aid, **custom_descriptor1args)"
   ]
  },
  {
   "cell_type": "markdown",
   "metadata": {},
   "source": [
    "If the custom descriptor depends on another descriptor (like LER depends on SOAP), then the second parameter must be a results store which can be used to obtain that information."
   ]
  },
  {
   "cell_type": "code",
   "execution_count": 12,
   "metadata": {},
   "outputs": [
    {
     "name": "stderr",
     "output_type": "stream",
     "text": [
      "\n",
      "  0%|          | 0/7 [00:00<?, ?it/s]\u001b[A\n",
      " 29%|██▊       | 2/7 [00:00<00:00,  7.54it/s]\u001b[A\n",
      "100%|██████████| 7/7 [00:00<00:00, 24.93it/s]\u001b[A"
     ]
    },
    {
     "data": {
      "text/plain": [
       "[200.0, 10.0, 20.0, 30.0]"
      ]
     },
     "execution_count": 12,
     "metadata": {},
     "output_type": "execute_result"
    }
   ],
   "source": [
    "def custom_descriptor2(atoms, store, arg1, arg2, arg3, arg4):\n",
    "    aid = atoms.get_array(\"aid\")[0] \n",
    "    #the aid is attached to the ASE atoms object in an array labelled \"aid\", so to get the aid \n",
    "    #from the object use the above command\n",
    "    cd1 = store.get(\"custom_descriptor1\", aid, arg1=arg1, arg2=arg2, arg3=arg3)\n",
    "    return [x * arg4 for x in cd1]\n",
    "\n",
    "custom_descriptor2args = {\n",
    "    'arg4': 10.\n",
    "}\n",
    "\n",
    "tut.describe('custom_descriptor2', fcn=custom_descriptor2, needs_store=True, **custom_descriptor1args, **custom_descriptor2args)\n",
    "\n",
    "aid = tut.aids()[0]\n",
    "tut.get('custom_descriptor2', aid, **custom_descriptor1args, **custom_descriptor2args)"
   ]
  },
  {
   "cell_type": "markdown",
   "metadata": {},
   "source": [
    "## How Files are Stored"
   ]
  },
  {
   "cell_type": "markdown",
   "metadata": {},
   "source": [
    "The descriptions created are stored in a directory structure with teirs like this: \n",
    "    main_store => descriptors => aids => descriptions.pkl\n",
    "\n",
    "The filenames are aggregates of the descriptor, aid, and parameters to create a unique filename of form\n",
    "`descriptor__aid__arg1_1__arg2_2__arg3_3.pkl`\n",
    "\n",
    "For example,\n",
    "\n",
    "`asr__tutorial_ni.p453.out___lmax_9___nmax_9___rcut_5.0.pkl`\n",
    "\n",
    "If you are having trouble finding your results with the get function, check the filename in your store-- you might be missing a required parameter"
   ]
  },
  {
   "cell_type": "code",
   "execution_count": null,
   "metadata": {},
   "outputs": [],
   "source": []
  }
 ],
 "metadata": {
  "kernelspec": {
   "display_name": "Python 3",
   "language": "python",
   "name": "python3"
  },
  "language_info": {
   "codemirror_mode": {
    "name": "ipython",
    "version": 3
   },
   "file_extension": ".py",
   "mimetype": "text/x-python",
   "name": "python",
   "nbconvert_exporter": "python",
   "pygments_lexer": "ipython3",
   "version": "3.6.9"
  }
 },
 "nbformat": 4,
 "nbformat_minor": 2
}
