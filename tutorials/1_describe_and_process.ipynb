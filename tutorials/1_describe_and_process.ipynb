{
 "cells": [
  {
   "cell_type": "code",
   "execution_count": 54,
   "source": [
    "%load_ext autoreload\n",
    "%autoreload 2"
   ],
   "outputs": [
    {
     "output_type": "stream",
     "name": "stdout",
     "text": [
      "The autoreload extension is already loaded. To reload it, use:\n",
      "  %reload_ext autoreload\n"
     ]
    }
   ],
   "metadata": {}
  },
  {
   "cell_type": "markdown",
   "source": [
    "# Describing the Atomic Systems Held in Your AtomsCollection\n",
    "\n",
    "[Documentation for `pyrelate`](https://msg-byu.github.io/pyrelate/)"
   ],
   "metadata": {}
  },
  {
   "cell_type": "code",
   "execution_count": 55,
   "source": [
    "import sys\n",
    "sys.path.append(\"../\")\n",
    "from pyrelate.collection import AtomsCollection\n",
    "import pyrelate.descriptors as descriptors\n",
    "\n",
    "tut = AtomsCollection('tutorial', 'tutorial_store')\n",
    "tut.read(['tutorial_data/ni.p453.out', 'tutorial_data/ni.p454.out', 'tutorial_data/ni.p455.out'], 28, prefix='tutorial')"
   ],
   "outputs": [
    {
     "output_type": "stream",
     "name": "stderr",
     "text": [
      "100%|██████████| 3/3 [00:03<00:00,  1.24s/it]\n"
     ]
    }
   ],
   "metadata": {}
  },
  {
   "cell_type": "code",
   "execution_count": 56,
   "source": [
    "tut.aids()"
   ],
   "outputs": [
    {
     "output_type": "execute_result",
     "data": {
      "text/plain": [
       "['tutorial_ni.p453.out', 'tutorial_ni.p454.out', 'tutorial_ni.p455.out']"
      ]
     },
     "metadata": {},
     "execution_count": 56
    }
   ],
   "metadata": {}
  },
  {
   "cell_type": "markdown",
   "source": [
    "## Trim\n",
    "\n",
    "See documentation"
   ],
   "metadata": {}
  },
  {
   "cell_type": "markdown",
   "source": [
    "## Describe function"
   ],
   "metadata": {}
  },
  {
   "cell_type": "code",
   "execution_count": null,
   "source": [
    "? AtomsCollection.trim"
   ],
   "outputs": [],
   "metadata": {}
  },
  {
   "cell_type": "markdown",
   "source": [
    "With a collection created and the atoms read in, we can start to calculate atomic descriptions for the ASE atoms objects in the collection."
   ],
   "metadata": {}
  },
  {
   "cell_type": "markdown",
   "source": [
    "To calculate atomic descriptors, we use the collection's `describe()` function which can be used to calculate built-in or custom descriptors."
   ],
   "metadata": {}
  },
  {
   "cell_type": "markdown",
   "source": [
    "`pyrelate` has one built in atomic descriptor, called the Smooth Overlap of Atomic Positions (SOAP). This built in descriptor utilizes the pycsoap implementation. As the researcher, you can write your own descriptor functions that you can use with `pyrelate`, using the built-in soap function as a pattern."
   ],
   "metadata": {}
  },
  {
   "cell_type": "markdown",
   "source": [
    "To use these built in descriptors we just specify the name of descriptor and all the arguments the descriptor needs.\n",
    "\n",
    "```python\n",
    "kwargs={\n",
    "    \"all\": \"of\", \n",
    "    \"the\":\"args\", \n",
    "    \"for\": \"descriptor\"\n",
    "    }\n",
    "    \n",
    "AtomsCollection.describe(descriptor, aid=None, fcn=None, override=False, **kwargs)\n",
    "```"
   ],
   "metadata": {}
  },
  {
   "cell_type": "markdown",
   "source": [
    "### SOAP"
   ],
   "metadata": {}
  },
  {
   "cell_type": "markdown",
   "source": [
    "Using the `aid` parameter you can choose which atomic structures to describe. If you leave as `None`, all atomic systems in the AtomsCollection will be described. \n",
    "\n",
    "Using the `fcn` parameter you specify what descriptor function to use.\n",
    "\n",
    "Using the `override` parameter you can choose to redo a description previously calculated and stored, and overwrite the result in the Store."
   ],
   "metadata": {}
  },
  {
   "cell_type": "code",
   "execution_count": 57,
   "source": [
    "from pyrelate.descriptors import soap\n",
    "soapargs = {\n",
    "    'rcut': 5.,\n",
    "    'lmax': 9,\n",
    "    'nmax': 9\n",
    "}"
   ],
   "outputs": [],
   "metadata": {
    "scrolled": true
   }
  },
  {
   "cell_type": "code",
   "execution_count": 58,
   "source": [
    "tut.describe('soap', aid=\"tutorial_ni.p453.out\", fcn=soap, **soapargs)\n",
    "\n",
    "#describe all results in the AtomsCollection, and it will not redo the one done above\n",
    "tut.describe('soap', fcn=soap, **soapargs)"
   ],
   "outputs": [
    {
     "output_type": "stream",
     "name": "stderr",
     "text": [
      "100%|██████████| 1/1 [02:52<00:00, 172.62s/it]\n",
      "100%|██████████| 3/3 [17:59<00:00, 359.68s/it]\n"
     ]
    }
   ],
   "metadata": {}
  },
  {
   "cell_type": "markdown",
   "source": [
    "**Note: SOAP takes quite a few minutes even for a small collection**"
   ],
   "metadata": {}
  },
  {
   "cell_type": "markdown",
   "source": [
    "### Retrieving Description Results\n",
    "\n",
    "The part of the `Store` that holds the results from your atomic description is organized like so:\n",
    "\n",
    "[store name] --> \"Descriptions\" --> [aID] --> [descriptor name]\n",
    "\n",
    "The function you would use to retrieve your results from the Store is called `get_description()`, and to retrieve the results, you just need the parameters that were used to generate the description in the first place (**WARNING**: do not use use the \"fcn\" used when retrieving your results). \n",
    "\n",
    "So to retrieve your SOAP results you could do"
   ],
   "metadata": {}
  },
  {
   "cell_type": "code",
   "execution_count": 59,
   "source": [
    "soap_res = tut.get_description(\"tutorial_ni.p453.out\", \"soap\", **soapargs)\n",
    "soap_res.shape"
   ],
   "outputs": [
    {
     "output_type": "execute_result",
     "data": {
      "text/plain": [
       "(49054, 450)"
      ]
     },
     "metadata": {},
     "execution_count": 59
    }
   ],
   "metadata": {}
  },
  {
   "cell_type": "markdown",
   "source": [
    "There is an optional `metadata` parameter that you could use to fetch the metadata of exactly what parameters were used in storing the description, along with anything else the description method stores alongside the description."
   ],
   "metadata": {}
  },
  {
   "cell_type": "code",
   "execution_count": 60,
   "source": [
    "res, meta = tut.get_description(\"tutorial_ni.p453.out\", \"soap\", metadata=True, **soapargs)\n",
    "meta"
   ],
   "outputs": [
    {
     "output_type": "execute_result",
     "data": {
      "text/plain": [
       "{'desc_args': {'rcut': 5.0, 'lmax': 9, 'nmax': 9}}"
      ]
     },
     "metadata": {},
     "execution_count": 60
    }
   ],
   "metadata": {}
  },
  {
   "cell_type": "markdown",
   "source": [
    "## Process function\n",
    "\n",
    "In addition to atomic descriptors, there are what we can call \"derived descriptors\", which are basically just ways to post-process a collection of atomic descriptions into an alternate representation. An example of this would be taking the SOAP *P* matrices of a collection of many different atomic structures, and processing such that you get a single \"feature matrix\" that can be used in machine learning. In the `pyrelate` vocabulary we call these post-processing techniques \"methods\". \n",
    "\n",
    "The `process()` function in pyrelate handles applying these processing methods to previously calculated atomic descriptor results stored in the AtomsCollection's Store object.\n",
    "\n",
    "`pyrelate` comes with three built-in processing methods:\n",
    "* Averaged SOAP Representation (ASR)\n",
    "* summation\n",
    "* Local Environment Representation (LER)"
   ],
   "metadata": {}
  },
  {
   "cell_type": "code",
   "execution_count": null,
   "source": [
    "? AtomsCollection.process #run cell to see 'process' docstring"
   ],
   "outputs": [],
   "metadata": {}
  },
  {
   "cell_type": "markdown",
   "source": [
    "All of these processing methods can be used to process atomic descriptor results from a collection of ASE Atoms objects into a single representation. Therefore, these descriptors are *collection specific*, meaning that if your AtomsCollection has a different group of atomic systems, you will get a different representation. \n"
   ],
   "metadata": {}
  },
  {
   "cell_type": "code",
   "execution_count": 7,
   "source": [
    "#run cell to see docstrings\n",
    "? descriptors.asr \n",
    "\n",
    "? descriptors.ler\n",
    "\n",
    "? descriptors.sum"
   ],
   "outputs": [],
   "metadata": {}
  },
  {
   "cell_type": "code",
   "execution_count": 61,
   "source": [
    "asr_res = tut.process('asr', based_on=(\"soap\",soapargs))\n",
    "# Note: you see here that we do not include the fcn parameter indicating what function to use. This is because \n",
    "# for the methods/descriptors in 'descriptors.py', if your method name or descriptor name is the same as the\n",
    "# function name in that file, it will automatically use that function from 'descriptors.py'.\n",
    "\n",
    "asr_res.shape #should have 3 rows (one for each atomic system SOAP result) and a lot of columns"
   ],
   "outputs": [
    {
     "output_type": "execute_result",
     "data": {
      "text/plain": [
       "(3, 450)"
      ]
     },
     "metadata": {},
     "execution_count": 61
    }
   ],
   "metadata": {
    "scrolled": false
   }
  },
  {
   "cell_type": "code",
   "execution_count": 62,
   "source": [
    "ler_args = {\n",
    "    \"soap_fcn\" : soap,\n",
    "    \"eps\" : 0.1,\n",
    "    \"dissim_args\" : {\"gamma\":4000},\n",
    "}"
   ],
   "outputs": [],
   "metadata": {}
  },
  {
   "cell_type": "code",
   "execution_count": 68,
   "source": [
    "ler_res = tut.process(\"ler\", based_on=(\"soap\", soapargs), **ler_args)\n",
    "ler_res.shape"
   ],
   "outputs": [
    {
     "output_type": "execute_result",
     "data": {
      "text/plain": [
       "(3, 57)"
      ]
     },
     "metadata": {},
     "execution_count": 68
    }
   ],
   "metadata": {}
  },
  {
   "cell_type": "markdown",
   "source": [
    "### Retrieving Method Results\n",
    "\n",
    "The part of the `Store` that holds the results from your atomic description is organized like so:\n",
    "\n",
    "[store name] --> \"Collections\" --> [collection name] --> [method name]\n",
    "\n",
    "The function you would use to retrieve your results from the Store is called `get_collection_result()`, and to retrieve the results, you need the parameters that were used to generate the atomic description in the first place, *and* the parameters used for the method. (**WARNING**: do not use use the \"fcn\" used when retrieving your results). \n",
    "\n",
    "So to retrieve your ASR or LER results you could do"
   ],
   "metadata": {}
  },
  {
   "cell_type": "code",
   "execution_count": 64,
   "source": [
    "asr_res = tut.get_collection_result('asr', based_on=('soap', soapargs))\n",
    "\n",
    "ler_res = tut.get_collection_result('ler', based_on=('soap', soapargs), **ler_args)\n",
    "ler_res.shape"
   ],
   "outputs": [
    {
     "output_type": "execute_result",
     "data": {
      "text/plain": [
       "(3, 57)"
      ]
     },
     "metadata": {},
     "execution_count": 64
    }
   ],
   "metadata": {}
  },
  {
   "cell_type": "markdown",
   "source": [
    "## Clear"
   ],
   "metadata": {}
  },
  {
   "cell_type": "markdown",
   "source": [
    "Sometimes you may want to remove certain results from your store, in which case you can use the `clear` or `clear_all` functions. \n",
    "\n",
    "`AtomsCollection.clear(self, descriptor=None, aid=None, collection_name=None, method=None, based_on=None, **kwargs)`\n",
    "\n",
    "\n",
    "As a versatile function, with `clear` you may:\n",
    "- remove a specific description result\n",
    "    - `tut.clear(descriptor=\"soap\", aid=\"tutorial_ni.p453.out\", **soapargs) #clears single SOAP result with given parameters`\n",
    "- remove all results for a specific descriptor\n",
    "    - `tut.clear(descriptor=\"soap\") #clears all soap results from store`\n",
    "- remove a specific collection result\n",
    "    - `tut.clear(collection_name=\"tutorial\", method=\"ler\", based_on=(\"soap\", soapargs), **ler_args) #clears the ler result generated with given parameters`\n",
    "- remove collection results created with specific method for given collection\n",
    "    - `tut.clear(collection_name=\"tutorial\", method=\"ler\") #clears all collection results processed with ler from the collection named tutorial`\n",
    "    - `tut.clear(method=\"ler\") #same as above, if the collection you are calling function from has the same name as the collection that generated the results`\n",
    "\n",
    "**Note: you may not include the collection name parameter if the results you want came from the AtomsCollection (with the same name) that generated the results. The collection name parameter will be pulled from the AtomsCollection object you are using.\n",
    "\n",
    "\n",
    "And you may clear all the results in the store:\n",
    "- `tut.clear_all()`"
   ],
   "metadata": {}
  },
  {
   "cell_type": "code",
   "execution_count": 69,
   "source": [
    "def _delete_store(store):\n",
    "    import shutil\n",
    "    shutil.rmtree(store.root)\n",
    "\n",
    "_delete_store(tut.store)"
   ],
   "outputs": [],
   "metadata": {}
  }
 ],
 "metadata": {
  "kernelspec": {
   "name": "python3",
   "display_name": "Python 3.8.10 64-bit ('venv-pyrelate': venv)"
  },
  "language_info": {
   "codemirror_mode": {
    "name": "ipython",
    "version": 3
   },
   "file_extension": ".py",
   "mimetype": "text/x-python",
   "name": "python",
   "nbconvert_exporter": "python",
   "pygments_lexer": "ipython3",
   "version": "3.8.10"
  },
  "interpreter": {
   "hash": "060938179502f580603b0a9522589e060aac3b0ab8f274b7d57349c92e9768d7"
  }
 },
 "nbformat": 4,
 "nbformat_minor": 2
}